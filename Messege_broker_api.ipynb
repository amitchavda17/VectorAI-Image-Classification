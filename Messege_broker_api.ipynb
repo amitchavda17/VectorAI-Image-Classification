{
 "cells": [
  {
   "cell_type": "code",
   "execution_count": 1,
   "source": [
    "#import message broker API\n",
    "from VectorAPI.VectorMB import VMessenger"
   ],
   "outputs": [],
   "metadata": {}
  },
  {
   "cell_type": "code",
   "execution_count": 2,
   "source": [
    "# init clinet sender which will send messages to Kafka we will use the default topic\n",
    "#we use our kakfa server deployed on local host\n",
    "sender_1 =  VMessenger(topic=\"kafka101\",server='localhost:9092')"
   ],
   "outputs": [],
   "metadata": {}
  },
  {
   "cell_type": "code",
   "execution_count": 8,
   "source": [
    "#initalizer send messages\n",
    "sender_1.create_sender()\n",
    "\n",
    "#send a message\n",
    "sender_1.send_message('wecome to kafka first')"
   ],
   "outputs": [],
   "metadata": {}
  },
  {
   "cell_type": "code",
   "execution_count": 4,
   "source": [
    "#create our receiver client which will read our messages from kafka\n",
    "receiver_1 = VMessenger(topic=\"kafka101\",server='localhost:9092')"
   ],
   "outputs": [],
   "metadata": {}
  },
  {
   "cell_type": "code",
   "execution_count": 5,
   "source": [
    "#init our receiver to receive kafka messages\n",
    "receiver_1.create_receiver()\n"
   ],
   "outputs": [],
   "metadata": {}
  },
  {
   "cell_type": "code",
   "execution_count": 9,
   "source": [
    "#read messages \n",
    "\n",
    "receiver_1.show_messages()"
   ],
   "outputs": [
    {
     "output_type": "stream",
     "name": "stdout",
     "text": [
      "wecome to kafka first\n"
     ]
    }
   ],
   "metadata": {}
  },
  {
   "cell_type": "code",
   "execution_count": 13,
   "source": [
    "#sending more messages\n",
    "sender_1.send_message('message 2')\n",
    "sender_1.send_message('message 3')"
   ],
   "outputs": [],
   "metadata": {}
  },
  {
   "cell_type": "code",
   "execution_count": 14,
   "source": [
    "#receiving new messages\n",
    "receiver_1.show_messages()"
   ],
   "outputs": [
    {
     "output_type": "stream",
     "name": "stdout",
     "text": [
      "message 2\n",
      "message 3\n"
     ]
    }
   ],
   "metadata": {}
  },
  {
   "cell_type": "code",
   "execution_count": 15,
   "source": [
    "#send batch of messages\n",
    "sender_1.send_message_batch(['hi','this','is','a','batch','test'])"
   ],
   "outputs": [],
   "metadata": {}
  },
  {
   "cell_type": "code",
   "execution_count": 16,
   "source": [
    "# testing the consumer to verify is batch messages are received\n",
    "receiver_1.show_messages()"
   ],
   "outputs": [
    {
     "output_type": "stream",
     "name": "stdout",
     "text": [
      "hi\n",
      "this\n",
      "is\n",
      "a\n",
      "batch\n",
      "test\n"
     ]
    }
   ],
   "metadata": {}
  },
  {
   "cell_type": "code",
   "execution_count": null,
   "source": [],
   "outputs": [],
   "metadata": {}
  }
 ],
 "metadata": {
  "kernelspec": {
   "display_name": "Python 3",
   "language": "python",
   "name": "python3"
  },
  "language_info": {
   "codemirror_mode": {
    "name": "ipython",
    "version": 3
   },
   "file_extension": ".py",
   "mimetype": "text/x-python",
   "name": "python",
   "nbconvert_exporter": "python",
   "pygments_lexer": "ipython3",
   "version": "3.7.6"
  }
 },
 "nbformat": 4,
 "nbformat_minor": 4
}