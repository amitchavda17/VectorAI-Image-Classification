{
 "cells": [
  {
   "cell_type": "code",
   "execution_count": 1,
   "source": [
    "#load libraries\n",
    "import numpy as np\n",
    "import tensorflow as tf\n",
    "from tensorflow.keras.datasets import fashion_mnist\n",
    "from Vector_ML.Vector_CNN import *"
   ],
   "outputs": [],
   "metadata": {}
  },
  {
   "cell_type": "code",
   "execution_count": 2,
   "source": [
    "# load the dataset as x,y\n",
    "(x_train, y_train), (x_test, y_test) = fashion_mnist.load_data()\n",
    "#making images as 3d (h,w,channel)\n",
    "x_train = np.expand_dims(x_train, -1)\n",
    "x_test = np.expand_dims(x_test, -1)"
   ],
   "outputs": [],
   "metadata": {}
  },
  {
   "cell_type": "code",
   "execution_count": 3,
   "source": [
    "#definine class labels\n",
    "labels = [\"T-shirt/top\",\"Trouser\",\"Pullover\",\"Dress\",\"Coat\",\"Sandal\",\"Shirt\",\"Sneaker\",\"Bag\",\"Ankle boot\"]"
   ],
   "outputs": [],
   "metadata": {}
  },
  {
   "cell_type": "code",
   "execution_count": 20,
   "source": [
    "#initalzing our CNN model with data and other parameters\n",
    "mnist_classifier = VectorCNN(x_train,y_train,x_test,y_test,labels,10,weights=None,mode='train')"
   ],
   "outputs": [],
   "metadata": {}
  },
  {
   "cell_type": "code",
   "execution_count": 9,
   "source": [
    "#preparing the dataset to train model converting to float and normalizing\n",
    "mnist_classifier.prepare_data(verbose=1)"
   ],
   "outputs": [
    {
     "output_type": "stream",
     "name": "stdout",
     "text": [
      "x_train shape: (60000, 28, 28, 1)\n",
      "10000 test samples\n",
      "60000 train samples\n"
     ]
    }
   ],
   "metadata": {}
  },
  {
   "cell_type": "code",
   "execution_count": 10,
   "source": [
    "#initializing keras model\n",
    "mnist_classifier.create_model()\n"
   ],
   "outputs": [],
   "metadata": {}
  },
  {
   "cell_type": "code",
   "execution_count": 11,
   "source": [
    "# compiling model by setting loss function , optimizer and metric\n",
    "mnist_classifier.compile_model()"
   ],
   "outputs": [],
   "metadata": {}
  },
  {
   "cell_type": "code",
   "execution_count": 12,
   "source": [
    "#mnist_classifier.train_model(batch_size=4,epochs=10)"
   ],
   "outputs": [],
   "metadata": {}
  },
  {
   "cell_type": "code",
   "execution_count": 4,
   "source": [
    "# initalizing the our inference object\n",
    "inference_model = VectorCNN(x_test=x_test,y_test=y_test,mode='inference')"
   ],
   "outputs": [],
   "metadata": {}
  },
  {
   "cell_type": "code",
   "execution_count": 5,
   "source": [
    "# loading the weights\n",
    "inference_model.load_model('./snapshots/fmnist_weights.h5')"
   ],
   "outputs": [],
   "metadata": {}
  },
  {
   "cell_type": "code",
   "execution_count": 6,
   "source": [
    "#evaluating the model on test set\n",
    "inference_model.evaluate_model()"
   ],
   "outputs": [
    {
     "output_type": "stream",
     "name": "stdout",
     "text": [
      "313/313 [==============================] - 11s 35ms/step - loss: 0.2008 - accuracy: 0.9288\n",
      "Test loss 0.2007828950881958\n",
      "Test acc 0.9287999868392944\n"
     ]
    }
   ],
   "metadata": {}
  },
  {
   "cell_type": "code",
   "execution_count": 8,
   "source": [
    "# running inference on batches\n",
    "inference_model.get_predections(x_test[:25])"
   ],
   "outputs": [
    {
     "output_type": "execute_result",
     "data": {
      "text/plain": [
       "array([9, 2, 1, 1, 6, 1, 4, 6, 5, 7, 4, 5, 8, 3, 4, 1, 2, 6, 8, 0, 2, 5,\n",
       "       7, 9, 1])"
      ]
     },
     "metadata": {},
     "execution_count": 8
    }
   ],
   "metadata": {}
  },
  {
   "cell_type": "code",
   "execution_count": null,
   "source": [],
   "outputs": [],
   "metadata": {}
  }
 ],
 "metadata": {
  "orig_nbformat": 4,
  "language_info": {
   "name": "python",
   "version": "3.7.6",
   "mimetype": "text/x-python",
   "codemirror_mode": {
    "name": "ipython",
    "version": 3
   },
   "pygments_lexer": "ipython3",
   "nbconvert_exporter": "python",
   "file_extension": ".py"
  },
  "kernelspec": {
   "name": "python3",
   "display_name": "Python 3.7.6 64-bit ('base': conda)"
  },
  "interpreter": {
   "hash": "64b01a5022acab808eff7719ce72fca8f5e2e6218e2d2a6c4c7b3a2121cd3f67"
  }
 },
 "nbformat": 4,
 "nbformat_minor": 2
}